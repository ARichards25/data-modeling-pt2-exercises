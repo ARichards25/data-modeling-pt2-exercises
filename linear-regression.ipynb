{
    "metadata": {
        "kernelspec": {
            "name": "python3",
            "display_name": "Python 3",
            "language": "python"
        },
        "language_info": {
            "name": "python",
            "version": "3.8.8",
            "mimetype": "text/x-python",
            "codemirror_mode": {
                "name": "ipython",
                "version": 3
            },
            "pygments_lexer": "ipython3",
            "nbconvert_exporter": "python",
            "file_extension": ".py"
        }
    },
    "nbformat_minor": 2,
    "nbformat": 4,
    "cells": [
        {
            "cell_type": "markdown",
            "source": [
                "# Exercises: Linear Regression\n",
                "\n",
                "Before getting started with coding, read through this [article](https://towardsdatascience.com/simple-linear-regression-model-using-python-machine-learning-eab7924d18b4) and follow the instructions within the article to download the dataset.\n",
                "\n",
                "Use this notebook to code along with the article.\n",
                "\n",
                "## Getting Started\n",
                "\n",
                "Import the libraries you need to start working with the dataset and make a dataframe out of the CSV in the dataset."
            ],
            "metadata": {
                "azdata_cell_guid": "06246ed1-1d4c-4f2b-b435-6f10a8cc0b32"
            }
        },
        {
            "cell_type": "code",
            "source": [
                ""
            ],
            "metadata": {
                "azdata_cell_guid": "588e3c93-98de-4b65-96e6-7d484d6ab700"
            },
            "outputs": [],
            "execution_count": null
        },
        {
            "cell_type": "markdown",
            "source": [
                "Run `shape()`, `info()`, and `describe()` to see what is going on with the dataset."
            ],
            "metadata": {
                "azdata_cell_guid": "eadfb479-2f97-43d8-84a3-1c405de8c78f"
            }
        },
        {
            "cell_type": "code",
            "source": [
                ""
            ],
            "metadata": {
                "azdata_cell_guid": "dc164354-50ff-4f84-be05-06c687d8ce47"
            },
            "outputs": [],
            "execution_count": null
        },
        {
            "cell_type": "markdown",
            "source": [
                "## Visualizing Data\n",
                "\n",
                "Import the necessary libraries to make the same pairplots as the author. Pairplots are used by analysts to see any relationships that may exist between the x- and y-variables."
            ],
            "metadata": {
                "azdata_cell_guid": "bdaf3901-a0ff-402f-a28f-f38a0f4cf174"
            },
            "attachments": {}
        },
        {
            "cell_type": "code",
            "source": [
                ""
            ],
            "metadata": {
                "azdata_cell_guid": "b89163f2-d3af-489a-96d0-02d9bbf9c0c2"
            },
            "outputs": [],
            "execution_count": null
        },
        {
            "cell_type": "markdown",
            "source": [
                "Try out the heatmap next!"
            ],
            "metadata": {
                "azdata_cell_guid": "96c6e651-137f-40e5-b09b-be10d861aaf1"
            },
            "attachments": {}
        },
        {
            "cell_type": "code",
            "source": [
                ""
            ],
            "metadata": {
                "azdata_cell_guid": "cef86579-2a7a-4c6a-a070-371efa05d423"
            },
            "outputs": [],
            "execution_count": null
        },
        {
            "cell_type": "markdown",
            "source": [
                "## Time for Linear Regression\n",
                "\n",
                "Follow the four steps in the article to perform linear regression."
            ],
            "metadata": {
                "azdata_cell_guid": "d7423f95-2aab-4e7c-bf51-569e53d49ff7"
            }
        },
        {
            "cell_type": "code",
            "source": [
                "# Step 1 is to assign your x and y\n",
                ""
            ],
            "metadata": {
                "azdata_cell_guid": "6fb79277-18fd-4e28-90d3-c02c3854a31e"
            },
            "outputs": [],
            "execution_count": null
        },
        {
            "cell_type": "code",
            "source": [
                "# Step 2 is to create your train and test sets\n",
                ""
            ],
            "metadata": {
                "azdata_cell_guid": "3b0f56d5-8ea9-4605-b90d-dc6989699339"
            },
            "outputs": [],
            "execution_count": null
        },
        {
            "cell_type": "code",
            "source": [
                "# Step 3 is to build the model. Remember to import any libraries you may need\n",
                ""
            ],
            "metadata": {
                "azdata_cell_guid": "09559580-dc0f-45c7-a5c8-f986df8910fb"
            },
            "outputs": [],
            "execution_count": null
        },
        {
            "cell_type": "code",
            "source": [
                "# Step 4 is to perform residual analysis\n",
                ""
            ],
            "metadata": {
                "azdata_cell_guid": "90e855fc-8940-4360-a957-a9793b3d25a3"
            },
            "outputs": [],
            "execution_count": null
        },
        {
            "cell_type": "markdown",
            "source": [
                "## Evaluate Your Model\n",
                "\n",
                "Use your model to make some predictions on the test data."
            ],
            "metadata": {
                "azdata_cell_guid": "facc5744-17a8-4bc4-b9af-72be8f57a0d3"
            }
        },
        {
            "cell_type": "code",
            "source": [
                ""
            ],
            "metadata": {
                "azdata_cell_guid": "69e1ea05-521b-4836-8c4b-7f5f312f19b8"
            },
            "outputs": [],
            "execution_count": null
        },
        {
            "cell_type": "markdown",
            "source": [
                "## Summarize Your Results\n",
                "\n",
                "Make note of your answers to each of the following questions by editing the cell.\n",
                "\n",
                "1. Did you get the same coefficients and p-values as the author?\n",
                "2. Did you get the same R-squared values as the author?\n",
                "3. Did you get the same F-statistic value and significance as the author?"
            ],
            "metadata": {
                "azdata_cell_guid": "d5dcb353-c9bb-4287-b32c-a0d07fa90e7e"
            }
        }
    ]
}